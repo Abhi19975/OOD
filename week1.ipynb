{
 "cells": [
  {
   "cell_type": "code",
   "execution_count": null,
   "metadata": {},
   "outputs": [
    {
     "ename": "",
     "evalue": "",
     "output_type": "error",
     "traceback": [
      "\u001b[1;31mRunning cells with 'Python 3.9.9 64-bit (windows store)' requires ipykernel package.\n",
      "Run the following command to install 'ipykernel' into the Python environment. \n",
      "Command: 'C:/Users/abhis/AppData/Local/Microsoft/WindowsApps/python3.9.exe -m pip install ipykernel -U --user --force-reinstall'"
     ]
    }
   ],
   "source": [
    "class Event(object):\n",
    "    def __init__(self):\n",
    "        self.callbacks = []\n",
    "\n",
    "    def notify(self, *args, **kwargs):\n",
    "        for callback in self.callbacks:\n",
    "            callback(*args, **kwargs)\n",
    "\n",
    "    def register(self, callback):\n",
    "        self.callbacks.append(callback)\n",
    "        return callback\n",
    "\n",
    "class SomeData(object):\n",
    "    def __init__(self, foo):\n",
    "        self.changed = Event()\n",
    "        self._foo = foo\n",
    "    @property\n",
    "    def foo(self):\n",
    "        return self._foo\n",
    "    \n",
    "    @foo.setter\n",
    "    def foo(self, value):\n",
    "        self._foo = value\n",
    "        self.changed.notify(self, 'foo', value)\n",
    "\n",
    "class SomeGUI(object):\n",
    "    def redraw(self, obj, key, newvalue):\n",
    "        print('redrawing %s with value %s' % (self, newvalue))\n",
    "\n",
    "\n",
    "if __name__ == '__main__':\n",
    "    my_data = SomeData(42)\n",
    "    # Registering the feww function with the use of decorator syntax\n",
    "@my_data.changed.register\n",
    "def print_it(obj, key, value):\n",
    "    print('Key %s changed to %s' % (key, value))\n",
    "\n",
    "# Registering the SomeGUI element\n",
    "my_gui = SomeGUI()\n",
    "my_data.changed.register(my_gui.redraw)\n",
    "\n",
    "my_data.foo = 10\n"
   ]
  },
  {
   "cell_type": "markdown",
   "metadata": {},
   "source": []
  },
  {
   "cell_type": "code",
   "execution_count": null,
   "metadata": {},
   "outputs": [],
   "source": []
  }
 ],
 "metadata": {
  "interpreter": {
   "hash": "571d798c4b6e42943892efe27cc57b28783d8416c144a48a2e9bf3e638cc91f7"
  },
  "kernelspec": {
   "display_name": "Python 3.10.0 64-bit",
   "language": "python",
   "name": "python3"
  },
  "language_info": {
   "codemirror_mode": {
    "name": "ipython",
    "version": 3
   },
   "file_extension": ".py",
   "mimetype": "text/x-python",
   "name": "python",
   "nbconvert_exporter": "python",
   "pygments_lexer": "ipython3",
   "version": "3.9.9"
  },
  "orig_nbformat": 4
 },
 "nbformat": 4,
 "nbformat_minor": 2
}
